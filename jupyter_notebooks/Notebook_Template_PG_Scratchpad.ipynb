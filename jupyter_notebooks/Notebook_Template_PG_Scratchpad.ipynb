{
  "cells": [
    {
      "cell_type": "markdown",
      "metadata": {
        "id": "0aStgWSO0E0E"
      },
      "source": [
        "# **PG Scratch Pad for trial code**"
      ]
    },
    {
      "cell_type": "markdown",
      "metadata": {
        "id": "1eLEkw5O0ECa"
      },
      "source": [
        "## Objectives\n",
        "\n",
        "* This Notebook is to be used by PG as part of the project whilst testing code prior to including it in the core Notebook"
      ]
    },
    {
      "cell_type": "markdown",
      "metadata": {
        "id": "9uWZXH9LwoQg"
      },
      "source": [
        "---"
      ]
    },
    {
      "cell_type": "code",
      "execution_count": 7,
      "metadata": {
        "id": "wZfF_j-Bz3i4",
        "outputId": "66943449-1436-4c3d-85c7-b85f9f78349b"
      },
      "outputs": [
        {
          "data": {
            "text/plain": [
              "'h:\\\\VScode\\\\Hackathon 2\\\\Team5-Hackathon2\\\\jupyter_notebooks'"
            ]
          },
          "execution_count": 7,
          "metadata": {},
          "output_type": "execute_result"
        }
      ],
      "source": [
        "import os\n",
        "current_dir = \"h:\\\\VScode\\\\Hackathon 2\\\\Team5-Hackathon2\\\\jupyter_notebooks\"\n",
        "current_dir"
      ]
    },
    {
      "cell_type": "markdown",
      "metadata": {
        "id": "-mavJ8DibrcQ"
      },
      "source": [
        "# Day 1"
      ]
    },
    {
      "cell_type": "markdown",
      "metadata": {},
      "source": [
        "Section 1 content"
      ]
    },
    {
      "cell_type": "code",
      "execution_count": 1,
      "metadata": {},
      "outputs": [],
      "source": [
        "import pandas as pd"
      ]
    },
    {
      "cell_type": "code",
      "execution_count": 2,
      "metadata": {},
      "outputs": [],
      "source": [
        "df= pd.read_csv(\"h:\\\\VScode\\\\Hackathon 2\\\\Team5-Hackathon2\\\\BankChurners.csv\")"
      ]
    },
    {
      "cell_type": "code",
      "execution_count": 8,
      "metadata": {},
      "outputs": [
        {
          "name": "stdout",
          "output_type": "stream",
          "text": [
            "<class 'pandas.core.frame.DataFrame'>\n",
            "RangeIndex: 10127 entries, 0 to 10126\n",
            "Data columns (total 23 columns):\n",
            " #   Column                                                                                                                              Non-Null Count  Dtype  \n",
            "---  ------                                                                                                                              --------------  -----  \n",
            " 0   CLIENTNUM                                                                                                                           10127 non-null  int64  \n",
            " 1   Attrition_Flag                                                                                                                      10127 non-null  object \n",
            " 2   Customer_Age                                                                                                                        10127 non-null  int64  \n",
            " 3   Gender                                                                                                                              10127 non-null  object \n",
            " 4   Dependent_count                                                                                                                     10127 non-null  int64  \n",
            " 5   Education_Level                                                                                                                     10127 non-null  object \n",
            " 6   Marital_Status                                                                                                                      10127 non-null  object \n",
            " 7   Income_Category                                                                                                                     10127 non-null  object \n",
            " 8   Card_Category                                                                                                                       10127 non-null  object \n",
            " 9   Months_on_book                                                                                                                      10127 non-null  int64  \n",
            " 10  Total_Relationship_Count                                                                                                            10127 non-null  int64  \n",
            " 11  Months_Inactive_12_mon                                                                                                              10127 non-null  int64  \n",
            " 12  Contacts_Count_12_mon                                                                                                               10127 non-null  int64  \n",
            " 13  Credit_Limit                                                                                                                        10127 non-null  float64\n",
            " 14  Total_Revolving_Bal                                                                                                                 10127 non-null  int64  \n",
            " 15  Avg_Open_To_Buy                                                                                                                     10127 non-null  float64\n",
            " 16  Total_Amt_Chng_Q4_Q1                                                                                                                10127 non-null  float64\n",
            " 17  Total_Trans_Amt                                                                                                                     10127 non-null  int64  \n",
            " 18  Total_Trans_Ct                                                                                                                      10127 non-null  int64  \n",
            " 19  Total_Ct_Chng_Q4_Q1                                                                                                                 10127 non-null  float64\n",
            " 20  Avg_Utilization_Ratio                                                                                                               10127 non-null  float64\n",
            " 21  Naive_Bayes_Classifier_Attrition_Flag_Card_Category_Contacts_Count_12_mon_Dependent_count_Education_Level_Months_Inactive_12_mon_1  10127 non-null  float64\n",
            " 22  Naive_Bayes_Classifier_Attrition_Flag_Card_Category_Contacts_Count_12_mon_Dependent_count_Education_Level_Months_Inactive_12_mon_2  10127 non-null  float64\n",
            "dtypes: float64(7), int64(10), object(6)\n",
            "memory usage: 1.8+ MB\n"
          ]
        }
      ],
      "source": [
        "df.info()"
      ]
    },
    {
      "cell_type": "code",
      "execution_count": 7,
      "metadata": {},
      "outputs": [
        {
          "data": {
            "text/html": [
              "<div>\n",
              "<style scoped>\n",
              "    .dataframe tbody tr th:only-of-type {\n",
              "        vertical-align: middle;\n",
              "    }\n",
              "\n",
              "    .dataframe tbody tr th {\n",
              "        vertical-align: top;\n",
              "    }\n",
              "\n",
              "    .dataframe thead th {\n",
              "        text-align: right;\n",
              "    }\n",
              "</style>\n",
              "<table border=\"1\" class=\"dataframe\">\n",
              "  <thead>\n",
              "    <tr style=\"text-align: right;\">\n",
              "      <th></th>\n",
              "      <th>DataType</th>\n",
              "      <th>UniqueValues</th>\n",
              "      <th>RowsWithData</th>\n",
              "      <th>NullValues</th>\n",
              "      <th>SkewScore</th>\n",
              "      <th>Kurtosis</th>\n",
              "    </tr>\n",
              "  </thead>\n",
              "  <tbody>\n",
              "    <tr>\n",
              "      <th>Customer_Age</th>\n",
              "      <td>int64</td>\n",
              "      <td>45</td>\n",
              "      <td>10127</td>\n",
              "      <td>0</td>\n",
              "      <td>-0.033605</td>\n",
              "      <td>-0.288620</td>\n",
              "    </tr>\n",
              "    <tr>\n",
              "      <th>Dependent_count</th>\n",
              "      <td>int64</td>\n",
              "      <td>6</td>\n",
              "      <td>10127</td>\n",
              "      <td>0</td>\n",
              "      <td>-0.020826</td>\n",
              "      <td>-0.683017</td>\n",
              "    </tr>\n",
              "    <tr>\n",
              "      <th>Months_on_book</th>\n",
              "      <td>int64</td>\n",
              "      <td>44</td>\n",
              "      <td>10127</td>\n",
              "      <td>0</td>\n",
              "      <td>-0.106565</td>\n",
              "      <td>0.400100</td>\n",
              "    </tr>\n",
              "    <tr>\n",
              "      <th>Total_Relationship_Count</th>\n",
              "      <td>int64</td>\n",
              "      <td>6</td>\n",
              "      <td>10127</td>\n",
              "      <td>0</td>\n",
              "      <td>-0.162452</td>\n",
              "      <td>-1.006131</td>\n",
              "    </tr>\n",
              "    <tr>\n",
              "      <th>Months_Inactive_12_mon</th>\n",
              "      <td>int64</td>\n",
              "      <td>7</td>\n",
              "      <td>10127</td>\n",
              "      <td>0</td>\n",
              "      <td>0.633061</td>\n",
              "      <td>1.098523</td>\n",
              "    </tr>\n",
              "    <tr>\n",
              "      <th>Contacts_Count_12_mon</th>\n",
              "      <td>int64</td>\n",
              "      <td>7</td>\n",
              "      <td>10127</td>\n",
              "      <td>0</td>\n",
              "      <td>0.011006</td>\n",
              "      <td>0.000863</td>\n",
              "    </tr>\n",
              "    <tr>\n",
              "      <th>Credit_Limit</th>\n",
              "      <td>float64</td>\n",
              "      <td>6205</td>\n",
              "      <td>10127</td>\n",
              "      <td>0</td>\n",
              "      <td>1.666726</td>\n",
              "      <td>1.808989</td>\n",
              "    </tr>\n",
              "    <tr>\n",
              "      <th>Total_Revolving_Bal</th>\n",
              "      <td>int64</td>\n",
              "      <td>1974</td>\n",
              "      <td>10127</td>\n",
              "      <td>0</td>\n",
              "      <td>-0.148837</td>\n",
              "      <td>-1.145992</td>\n",
              "    </tr>\n",
              "    <tr>\n",
              "      <th>Avg_Open_To_Buy</th>\n",
              "      <td>float64</td>\n",
              "      <td>6813</td>\n",
              "      <td>10127</td>\n",
              "      <td>0</td>\n",
              "      <td>1.661697</td>\n",
              "      <td>1.798617</td>\n",
              "    </tr>\n",
              "    <tr>\n",
              "      <th>Total_Amt_Chng_Q4_Q1</th>\n",
              "      <td>float64</td>\n",
              "      <td>1158</td>\n",
              "      <td>10127</td>\n",
              "      <td>0</td>\n",
              "      <td>1.732063</td>\n",
              "      <td>9.993501</td>\n",
              "    </tr>\n",
              "    <tr>\n",
              "      <th>Total_Trans_Amt</th>\n",
              "      <td>int64</td>\n",
              "      <td>5033</td>\n",
              "      <td>10127</td>\n",
              "      <td>0</td>\n",
              "      <td>2.041003</td>\n",
              "      <td>3.894023</td>\n",
              "    </tr>\n",
              "    <tr>\n",
              "      <th>Total_Ct_Chng_Q4_Q1</th>\n",
              "      <td>float64</td>\n",
              "      <td>830</td>\n",
              "      <td>10127</td>\n",
              "      <td>0</td>\n",
              "      <td>2.064031</td>\n",
              "      <td>15.689293</td>\n",
              "    </tr>\n",
              "    <tr>\n",
              "      <th>Avg_Utilization_Ratio</th>\n",
              "      <td>float64</td>\n",
              "      <td>964</td>\n",
              "      <td>10127</td>\n",
              "      <td>0</td>\n",
              "      <td>0.718008</td>\n",
              "      <td>-0.794972</td>\n",
              "    </tr>\n",
              "    <tr>\n",
              "      <th>Avg_Utilization_Ratio</th>\n",
              "      <td>float64</td>\n",
              "      <td>964</td>\n",
              "      <td>10127</td>\n",
              "      <td>0</td>\n",
              "      <td>0.718008</td>\n",
              "      <td>-0.794972</td>\n",
              "    </tr>\n",
              "  </tbody>\n",
              "</table>\n",
              "</div>"
            ],
            "text/plain": [
              "                         DataType  UniqueValues  RowsWithData  NullValues  \\\n",
              "Customer_Age                int64            45         10127           0   \n",
              "Dependent_count             int64             6         10127           0   \n",
              "Months_on_book              int64            44         10127           0   \n",
              "Total_Relationship_Count    int64             6         10127           0   \n",
              "Months_Inactive_12_mon      int64             7         10127           0   \n",
              "Contacts_Count_12_mon       int64             7         10127           0   \n",
              "Credit_Limit              float64          6205         10127           0   \n",
              "Total_Revolving_Bal         int64          1974         10127           0   \n",
              "Avg_Open_To_Buy           float64          6813         10127           0   \n",
              "Total_Amt_Chng_Q4_Q1      float64          1158         10127           0   \n",
              "Total_Trans_Amt             int64          5033         10127           0   \n",
              "Total_Ct_Chng_Q4_Q1       float64           830         10127           0   \n",
              "Avg_Utilization_Ratio     float64           964         10127           0   \n",
              "Avg_Utilization_Ratio     float64           964         10127           0   \n",
              "\n",
              "                          SkewScore   Kurtosis  \n",
              "Customer_Age              -0.033605  -0.288620  \n",
              "Dependent_count           -0.020826  -0.683017  \n",
              "Months_on_book            -0.106565   0.400100  \n",
              "Total_Relationship_Count  -0.162452  -1.006131  \n",
              "Months_Inactive_12_mon     0.633061   1.098523  \n",
              "Contacts_Count_12_mon      0.011006   0.000863  \n",
              "Credit_Limit               1.666726   1.808989  \n",
              "Total_Revolving_Bal       -0.148837  -1.145992  \n",
              "Avg_Open_To_Buy            1.661697   1.798617  \n",
              "Total_Amt_Chng_Q4_Q1       1.732063   9.993501  \n",
              "Total_Trans_Amt            2.041003   3.894023  \n",
              "Total_Ct_Chng_Q4_Q1        2.064031  15.689293  \n",
              "Avg_Utilization_Ratio      0.718008  -0.794972  \n",
              "Avg_Utilization_Ratio      0.718008  -0.794972  "
            ]
          },
          "execution_count": 7,
          "metadata": {},
          "output_type": "execute_result"
        }
      ],
      "source": [
        "#Headline data for \n",
        "Columns = ['Customer_Age',\n",
        "           'Dependent_count',\n",
        "           'Months_on_book',\n",
        "           'Total_Relationship_Count',\n",
        "           'Months_Inactive_12_mon',\n",
        "           'Contacts_Count_12_mon',\n",
        "           'Credit_Limit',\n",
        "           'Total_Revolving_Bal',\n",
        "           'Avg_Open_To_Buy',\n",
        "           'Total_Amt_Chng_Q4_Q1',\n",
        "           'Total_Trans_Amt',\n",
        "           'Total_Ct_Chng_Q4_Q1',\n",
        "           'Avg_Utilization_Ratio',\n",
        "           # 'Attrition_Flag',\n",
        "           'Avg_Utilization_Ratio']\n",
        "\n",
        "CCard_sum_df = pd.DataFrame({\n",
        "    'DataType': df[Columns].dtypes,\n",
        "    'UniqueValues': df[Columns].nunique(),\n",
        "    'RowsWithData': len(df[Columns])-df[Columns].isnull().sum(),\n",
        "    'NullValues':df[Columns].isnull().sum(),\n",
        "    'SkewScore':df[Columns].skew(),\n",
        "    'Kurtosis':df[Columns].kurtosis()\n",
        "})\n",
        "CCard_sum_df"
      ]
    },
    {
      "cell_type": "code",
      "execution_count": null,
      "metadata": {},
      "outputs": [],
      "source": []
    },
    {
      "cell_type": "markdown",
      "metadata": {
        "id": "ZY3l0-AxO93d"
      },
      "source": [
        "---"
      ]
    },
    {
      "cell_type": "markdown",
      "metadata": {
        "id": "uFQo3ycuO-v6"
      },
      "source": [
        "# Section 2"
      ]
    },
    {
      "cell_type": "markdown",
      "metadata": {},
      "source": [
        "Section 2 content"
      ]
    },
    {
      "cell_type": "code",
      "execution_count": null,
      "metadata": {},
      "outputs": [],
      "source": []
    },
    {
      "cell_type": "markdown",
      "metadata": {},
      "source": [
        "---"
      ]
    },
    {
      "cell_type": "markdown",
      "metadata": {},
      "source": [
        "NOTE"
      ]
    },
    {
      "cell_type": "markdown",
      "metadata": {},
      "source": [
        "* You may add as many sections as you want, as long as it supports your project workflow.\n",
        "* All notebook's cells should be run top-down (you can't create a dynamic wherein a given point you need to go back to a previous cell to execute some task, like go back to a previous cell and refresh a variable content)"
      ]
    },
    {
      "cell_type": "markdown",
      "metadata": {},
      "source": [
        "---"
      ]
    },
    {
      "cell_type": "markdown",
      "metadata": {
        "id": "ltNetd085qHf"
      },
      "source": [
        "# Push files to Repo"
      ]
    },
    {
      "cell_type": "markdown",
      "metadata": {},
      "source": [
        "* In cases where you don't need to push files to Repo, you may replace this section with \"Conclusions and Next Steps\" and state your conclusions and next steps."
      ]
    },
    {
      "cell_type": "code",
      "execution_count": null,
      "metadata": {
        "id": "aKlnIozA4eQO",
        "outputId": "fd09bc1f-adb1-4511-f6ce-492a6af570c0"
      },
      "outputs": [],
      "source": [
        "import os\n",
        "try:\n",
        "  # create your folder here\n",
        "  # os.makedirs(name='')\n",
        "except Exception as e:\n",
        "  print(e)\n"
      ]
    }
  ],
  "metadata": {
    "accelerator": "GPU",
    "colab": {
      "name": "Data Practitioner Jupyter Notebook.ipynb",
      "provenance": [],
      "toc_visible": true
    },
    "kernelspec": {
      "display_name": ".venv",
      "language": "python",
      "name": "python3"
    },
    "language_info": {
      "codemirror_mode": {
        "name": "ipython",
        "version": 3
      },
      "file_extension": ".py",
      "mimetype": "text/x-python",
      "name": "python",
      "nbconvert_exporter": "python",
      "pygments_lexer": "ipython3",
      "version": "3.12.2"
    },
    "orig_nbformat": 2
  },
  "nbformat": 4,
  "nbformat_minor": 2
}
